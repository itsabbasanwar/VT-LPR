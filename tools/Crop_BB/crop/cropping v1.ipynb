{
 "cells": [
  {
   "cell_type": "code",
   "execution_count": 3,
   "metadata": {},
   "outputs": [
    {
     "name": "stdout",
     "output_type": "stream",
     "text": [
      "Total images : 2\n",
      "Total annotation : 2\n",
      "Total Breeds : 2\n",
      "(1135, 831, 1252, 894)\n",
      "(509, 1340, 713, 1458)\n"
     ]
    },
    {
     "data": {
      "text/plain": [
       "<Figure size 720x720 with 0 Axes>"
      ]
     },
     "metadata": {},
     "output_type": "display_data"
    }
   ],
   "source": [
    "#crop images\n",
    "import numpy as np # linear algebra\n",
    "import xml.etree.ElementTree as ET # for parsing XML\n",
    "import matplotlib.pyplot as plt # to show images\n",
    "from PIL import Image # to read images\n",
    "import os\n",
    "import glob\n",
    "\n",
    "root_images=\"images\"\n",
    "root_annots=\"annotation\"\n",
    "\n",
    "all_images=os.listdir(\"images/\")\n",
    "print(f\"Total images : {len(all_images)}\")\n",
    "\n",
    "breeds = glob.glob('annotation/')\n",
    "annotation=[]\n",
    "for b in breeds:\n",
    "    annotation+=glob.glob(b+\"/*\")\n",
    "print(f\"Total annotation : {len(annotation)}\")\n",
    "\n",
    "breed_map={}\n",
    "for annot in annotation:\n",
    "    breed=annot.split(\"/\")[-1]\n",
    "    index=breed.split(\"-\")[0]\n",
    "    breed_map.setdefault(index,breed)\n",
    "    \n",
    "print(f\"Total Breeds : {len(breed_map)}\")\n",
    "\n",
    "def bounding_box(image):\n",
    "    #bpath=root_annots+str(breed_map[image.split(\"_\")[0]])+\"/\"+str(image.split(\".\")[0])\n",
    "    #print (bpath)\n",
    "    #print(root_annots)\n",
    "    #print (str(breed_map[image.split(\"_\")[0]]))\n",
    "    #print (str(image.split(\".\")[0]))\n",
    "    bpath=root_annots+\"/\"+str(image.split(\".\")[0]+\".xml\")\n",
    "    tree = ET.parse(bpath)\n",
    "    root = tree.getroot()\n",
    "    objects = root.findall('object')\n",
    "    \n",
    "    for o in objects:\n",
    "        bndbox = o.find('bndbox') # reading bound box\n",
    "        xmin = int(bndbox.find('xmin').text)\n",
    "        ymin = int(bndbox.find('ymin').text)\n",
    "        xmax = int(bndbox.find('xmax').text)\n",
    "        ymax = int(bndbox.find('ymax').text)\n",
    "        \n",
    "        \n",
    "    return (xmin,ymin,xmax,ymax)\n",
    "    \n",
    "plt.figure(figsize=(10,10))\n",
    "bbox=[]\n",
    "for i,image in enumerate(all_images):\n",
    "    bbox=bounding_box(image) \n",
    "    print(bbox)  \n",
    "    im=Image.open(os.path.join(root_images,image))\n",
    "    im=im.crop(bbox)           \n",
    "    im.save('results_imgs/{}.jpg'.format(i,im)) "
   ]
  },
  {
   "cell_type": "code",
   "execution_count": null,
   "metadata": {},
   "outputs": [],
   "source": []
  }
 ],
 "metadata": {
  "kernelspec": {
   "display_name": "Python 3",
   "language": "python",
   "name": "python3"
  },
  "language_info": {
   "codemirror_mode": {
    "name": "ipython",
    "version": 3
   },
   "file_extension": ".py",
   "mimetype": "text/x-python",
   "name": "python",
   "nbconvert_exporter": "python",
   "pygments_lexer": "ipython3",
   "version": "3.8.8"
  }
 },
 "nbformat": 4,
 "nbformat_minor": 4
}
